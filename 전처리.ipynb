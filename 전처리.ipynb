{
  "cells": [
    {
      "cell_type": "markdown",
      "metadata": {
        "id": "view-in-github",
        "colab_type": "text"
      },
      "source": [
        "<a href=\"https://colab.research.google.com/github/ev1025/happy_dog_map/blob/main/%EC%A0%84%EC%B2%98%EB%A6%AC.ipynb\" target=\"_parent\"><img src=\"https://colab.research.google.com/assets/colab-badge.svg\" alt=\"Open In Colab\"/></a>"
      ]
    },
    {
      "cell_type": "markdown",
      "id": "6e46a31a-a427-4da1-8950-677e8b39b264",
      "metadata": {
        "id": "6e46a31a-a427-4da1-8950-677e8b39b264"
      },
      "source": [
        "# 강아지 행복지도"
      ]
    },
    {
      "cell_type": "markdown",
      "id": "9019859e-5aa9-4c20-ac08-ea0967227e5f",
      "metadata": {
        "id": "9019859e-5aa9-4c20-ac08-ea0967227e5f"
      },
      "source": [
        "## **로컬DB happydog에서 크롤링파일 가져오기**"
      ]
    },
    {
      "cell_type": "code",
      "execution_count": null,
      "id": "06404cff-82e4-4020-b811-24e8c4ced410",
      "metadata": {
        "id": "06404cff-82e4-4020-b811-24e8c4ced410",
        "outputId": "f1850157-f2fb-4e0b-f2ec-db627b01aad0"
      },
      "outputs": [
        {
          "name": "stdout",
          "output_type": "stream",
          "text": [
            "Requirement already satisfied: pymysql in c:\\users\\eg287\\anaconda3\\envs\\ts\\lib\\site-packages (1.0.3)\n",
            "Note: you may need to restart the kernel to use updated packages.\n"
          ]
        }
      ],
      "source": [
        "pip install pymysql"
      ]
    },
    {
      "cell_type": "code",
      "execution_count": null,
      "id": "2d5d949b-4f2a-4ffc-947c-3f12a49f61ec",
      "metadata": {
        "id": "2d5d949b-4f2a-4ffc-947c-3f12a49f61ec"
      },
      "outputs": [],
      "source": [
        "import pymysql\n",
        "import pymysql.cursors\n",
        "\n",
        "# mysql 연결자 생성\n",
        "conn = pymysql.connect(host='127.0.0.1',   # db주소\n",
        "                       user='root',        # db유저아이디\n",
        "                       password='s10e534', # db비밀번호\n",
        "                       db='happydog', # db이름\n",
        "                       charset='utf8',     # 한글설정\n",
        "                       cursorclass = pymysql.cursors.DictCursor)\n",
        "\n",
        "\n",
        "cur = conn.cursor() # 커서 생성"
      ]
    },
    {
      "cell_type": "code",
      "execution_count": null,
      "id": "c444c083-ffda-4b74-b4f5-f2b11afbd665",
      "metadata": {
        "tags": [],
        "id": "c444c083-ffda-4b74-b4f5-f2b11afbd665"
      },
      "outputs": [],
      "source": [
        "# 일반 크롤링, 강아지도 사이트 크롤링 데이터 합치기\n",
        "sql = '''\n",
        "select * \n",
        "from star_dog_map\n",
        "union\n",
        "select * \n",
        "from happy_dog_list\n",
        "'''"
      ]
    },
    {
      "cell_type": "code",
      "execution_count": null,
      "id": "eea725b9-5047-4c8e-b866-44d67bb2774e",
      "metadata": {
        "tags": [],
        "id": "eea725b9-5047-4c8e-b866-44d67bb2774e",
        "outputId": "4e17205b-0500-4572-850d-540c3df8818e"
      },
      "outputs": [
        {
          "name": "stdout",
          "output_type": "stream",
          "text": [
            "{'상호명': '조용한저녁', '업종': '양식', '리뷰 수': 0, '별점': '4.83', '행정구': '마포구', '전화번호': '0507-1431-4540'}\n"
          ]
        }
      ],
      "source": [
        "# 데이터 가져와서 map_list에 저장\n",
        "cur.execute(sql)\n",
        "map_list = cur.fetchall()\n",
        "print(map_list[0])"
      ]
    },
    {
      "cell_type": "markdown",
      "id": "80d38756-38e3-47f9-9ffc-990e5436959a",
      "metadata": {
        "id": "80d38756-38e3-47f9-9ffc-990e5436959a"
      },
      "source": [
        "## 데이터 전처리"
      ]
    },
    {
      "cell_type": "code",
      "execution_count": null,
      "id": "0f06f77b-4812-4d42-81c4-5f30b5701718",
      "metadata": {
        "id": "0f06f77b-4812-4d42-81c4-5f30b5701718"
      },
      "outputs": [],
      "source": [
        "import pandas as pd\n",
        "import numpy as np"
      ]
    },
    {
      "cell_type": "code",
      "execution_count": null,
      "id": "ee709a6d-633a-4b30-9a30-2e3b39b4bd55",
      "metadata": {
        "tags": [],
        "id": "ee709a6d-633a-4b30-9a30-2e3b39b4bd55"
      },
      "outputs": [],
      "source": [
        "df = pd.DataFrame(map_list)"
      ]
    },
    {
      "cell_type": "markdown",
      "id": "c063faab-0902-4a70-a0ed-83100d935aaa",
      "metadata": {
        "id": "c063faab-0902-4a70-a0ed-83100d935aaa"
      },
      "source": [
        "**중복제거**"
      ]
    },
    {
      "cell_type": "code",
      "execution_count": null,
      "id": "db69b4a5",
      "metadata": {
        "id": "db69b4a5",
        "outputId": "a9486211-93bb-429b-ff8e-2a367eac0177"
      },
      "outputs": [
        {
          "data": {
            "text/plain": [
              "1944"
            ]
          },
          "execution_count": 8,
          "metadata": {},
          "output_type": "execute_result"
        }
      ],
      "source": [
        "len(df)"
      ]
    },
    {
      "cell_type": "code",
      "execution_count": null,
      "id": "9ae9aedb-6029-47a5-8f18-0e88aa1d8ed8",
      "metadata": {
        "id": "9ae9aedb-6029-47a5-8f18-0e88aa1d8ed8",
        "outputId": "a51e2758-e2b7-48e1-846e-0903d8cc7da7"
      },
      "outputs": [
        {
          "data": {
            "text/plain": [
              "34"
            ]
          },
          "execution_count": 9,
          "metadata": {},
          "output_type": "execute_result"
        }
      ],
      "source": [
        "df['상호명'].duplicated().sum()"
      ]
    },
    {
      "cell_type": "code",
      "execution_count": null,
      "id": "ff0b93cf-70ae-48c1-8933-156c6b39da16",
      "metadata": {
        "tags": [],
        "id": "ff0b93cf-70ae-48c1-8933-156c6b39da16"
      },
      "outputs": [],
      "source": [
        "df.drop_duplicates(subset=['상호명'], ignore_index=True, inplace=True)"
      ]
    },
    {
      "cell_type": "code",
      "execution_count": null,
      "id": "ef60f9bf-4a52-4817-93c8-6ea70c285238",
      "metadata": {
        "id": "ef60f9bf-4a52-4817-93c8-6ea70c285238",
        "outputId": "f4cd2c59-63a8-4680-86cf-1efe83d51b1d"
      },
      "outputs": [
        {
          "data": {
            "text/plain": [
              "1910"
            ]
          },
          "execution_count": 11,
          "metadata": {},
          "output_type": "execute_result"
        }
      ],
      "source": [
        "len(df)"
      ]
    },
    {
      "cell_type": "markdown",
      "id": "8ffc616b-07af-4333-81f2-5a52bbb63690",
      "metadata": {
        "id": "8ffc616b-07af-4333-81f2-5a52bbb63690"
      },
      "source": [
        "**업종명이 불명확한 부분이 많아서 업종명을 정리**"
      ]
    },
    {
      "cell_type": "code",
      "execution_count": null,
      "id": "5d9b9b08-fa31-4231-a57d-3178bae8d2af",
      "metadata": {
        "id": "5d9b9b08-fa31-4231-a57d-3178bae8d2af",
        "outputId": "2f3b6adc-35c2-49de-e5b0-2e81cc440372"
      },
      "outputs": [
        {
          "data": {
            "text/plain": [
              "Index(['상호명', '업종', '리뷰 수', '별점', '행정구', '전화번호'], dtype='object')"
            ]
          },
          "execution_count": 12,
          "metadata": {},
          "output_type": "execute_result"
        }
      ],
      "source": [
        "df.columns"
      ]
    },
    {
      "cell_type": "code",
      "execution_count": null,
      "id": "b242e3e6-0f2a-42af-9356-0d1577c793aa",
      "metadata": {
        "id": "b242e3e6-0f2a-42af-9356-0d1577c793aa",
        "outputId": "0273b8d1-abae-4c1f-e143-da19b6b142ba"
      },
      "outputs": [
        {
          "data": {
            "text/plain": [
              "array(['양식', '카페,디저트', '햄버거', '국밥', '카페', '도시락,컵밥', '한식', '바(BAR)', '죽',\n",
              "       '다이어트,샐러드', '뜨개', '커피번', '아이스크림', '빙수', '베이글', '베이커리',\n",
              "       '스파게티,파스타전문', '호두과자', '과일,주스전문점', '꽃집,꽃배달', '라이브카페', '도넛', '서점',\n",
              "       '와인', '테이크아웃커피', '복합문화공간', '퓨전음식', '피자', '애견카페', '브런치', '샌드위치',\n",
              "       '플라워카페', '맥주,호프', '태국음식', '케이크전문', '다방', '육류,고기요리', '떡볶이', '아시아음식',\n",
              "       '스페인음식', '멕시코,남미음식', '주류', '이탈리아음식', '돼지고기구이', '일식당', '요리주점',\n",
              "       '사진,스튜디오', '카레', '채식,샐러드뷔페', '테마카페', '반려동물미용', '해물,생선요리', '스테이크,립',\n",
              "       '72420', '양갈비', '곱창,막창,양', '만두', '덮밥', '생선회', '프랑스음식', '돈가스',\n",
              "       '포장마차', '일식튀김,꼬치', '닭갈비', '북카페', '종합분식', '찌개,전골', '이자카야', '인도음식',\n",
              "       '미용실', '스포츠시설', '네일아트,네일샵', '반려견놀이터', '애견용품', '족발,보쌈', '조개요리',\n",
              "       '치킨,닭강정', '주꾸미요리', '분식', '닭발', '베트남음식', '닭볶음탕', '소고기구이', '냉면',\n",
              "       '백숙,삼계탕', '장어,먹장어요리', '갤러리카페', '차', '전통,민속주점', '우동,소바', '순대,순댓국',\n",
              "       '중식당', '일본식라면', '술집', '오뎅,꼬치', '커피가공,제조', '장소대여', '스크린골프장',\n",
              "       '반려동물용품', '반려동물호텔', '애견훈련', '반려동물', '반려동물분양', '약국', '동물병원', '애견사료',\n",
              "       '동물사료제조', '직업,기술학원', '애완동물'], dtype=object)"
            ]
          },
          "execution_count": 13,
          "metadata": {},
          "output_type": "execute_result"
        }
      ],
      "source": [
        "df['업종'].unique()"
      ]
    },
    {
      "cell_type": "code",
      "execution_count": null,
      "id": "98d9c708-7d76-4be9-a6ca-5a3b829b2311",
      "metadata": {
        "tags": [],
        "id": "98d9c708-7d76-4be9-a6ca-5a3b829b2311"
      },
      "outputs": [],
      "source": [
        "# 큰 카테고리로 분류\n",
        "# 동반식당\n",
        "df['업종'].replace(['양식','햄버거','국밥','도시락,컵밥','한식','일본식라면','바(BAR)','퓨전음식','죽','다이어트,샐러드','뜨개','와인','스파게티,파스타전문'\n",
        "                 ,'스테이크,립','피자','브런치','샌드위치','맥주,호프','태국음식','이탈리아음식','육류,고기요리','떡볶이','아시아음식','스페인음식','멕시코,남미음식'\n",
        "                 ,'주류','중식당','덮밥','요리주점','프랑스음식','일식당','돼지고기구이', '술집', '이자카야', '카레', '찌개,전골', '치킨,닭강정', '주꾸미요리', '분식', \n",
        "                  '닭발', '베트남음식', '닭볶음탕', '생선회', '곱창,막창,양', '소고기구이', '냉면', '백숙,삼계탕','전통,민속주점',  '포장마차', '게요리', '우동,소바', '토스트', '순대,순댓국'\n",
        "                  , '오뎅,꼬치',  '닭갈비', '채식,샐러드뷔페', '해물,생선요리', '72420', '양갈비', '만두', '일식튀김,꼬치', '종합분식', '인도음식', '족발,보쌈', '조개요리','장어,먹장어요리'\n",
        "                  , '돈가스'],'식당(동반)',inplace=True)\n",
        "# 동반카페\n",
        "df['업종'].replace(['카페,디저트','카페','커피번','아이스크림','빙수','베이글','베이커리','호두과자','과일,주스전문점','꽃집,꽃배달','라이브카페','도넛','북카페',\n",
        "                  '테이크아웃커피','플라워카페','케이크전문','다방','갤러리카페', '차', '보드카페','예식장','커피가공,제조', '사주카페', '테마카페'],'카페(동반)', inplace=True)\n",
        "\n",
        "# 애견미용\n",
        "df['업종'].replace('반려동물미용','애견미용', inplace=True)\n",
        "\n",
        "# 애견위탁\n",
        "df['업종'].replace('반려동물호텔','애견호텔', inplace=True)\n",
        "\n",
        "# 애견용품\n",
        "df['업종'].replace(['반려동물분양','반려동물용품', '애견사료','애완동물', '애견의류'],'애견용품', inplace=True)\n",
        "\n",
        "# 동물약국\n",
        "df['업종'].replace('약국','동물약국', inplace=True)\n",
        "\n",
        "# 간식, 놀이터\n",
        "df['업종'].replace(['반려견놀이터','제조업','동물사료제조' ],'애견취미', inplace=True)\n",
        "\n",
        "# 주인 취미\n",
        "df['업종'].replace(['뜨개', '아기사진전문', '네일아트,네일샵', '셀프,대여스튜디오', '서점','복합문화공간','장소대여','사진,스튜디오',\n",
        "                  '공방', '스크린골프장','스포츠시설',],'주인취미', inplace=True)"
      ]
    },
    {
      "cell_type": "code",
      "execution_count": null,
      "id": "f469f3ee-70e5-40d3-a737-9b65f7d02210",
      "metadata": {
        "id": "f469f3ee-70e5-40d3-a737-9b65f7d02210",
        "outputId": "7801c04a-40e9-484c-8dfa-953380a912e6"
      },
      "outputs": [
        {
          "data": {
            "text/plain": [
              "array(['식당(동반)', '카페(동반)', '주인취미', '애견카페', '애견미용', '미용실', '애견취미', '애견용품',\n",
              "       '애견호텔', '애견훈련', '반려동물', '동물약국', '동물병원', '직업,기술학원'], dtype=object)"
            ]
          },
          "execution_count": 15,
          "metadata": {},
          "output_type": "execute_result"
        }
      ],
      "source": [
        "df['업종'].unique()"
      ]
    },
    {
      "cell_type": "code",
      "execution_count": null,
      "id": "d707ac64-0d89-4c82-a218-fed783c84042",
      "metadata": {
        "tags": [],
        "id": "d707ac64-0d89-4c82-a218-fed783c84042"
      },
      "outputs": [],
      "source": [
        "# # 이상치 확인용\n",
        "# df[df['업종']=='인테리어소품']"
      ]
    },
    {
      "cell_type": "code",
      "execution_count": null,
      "id": "bc3d6386-2a6a-4757-831c-01f2b0840773",
      "metadata": {
        "id": "bc3d6386-2a6a-4757-831c-01f2b0840773"
      },
      "outputs": [],
      "source": [
        "# 잘못 수집된 정보 제거\n",
        "del_list = ['직업,기술학원','미용실','인테리어소품','편입학원']\n",
        "\n",
        "del_list = '|'.join(del_list)\n",
        "del_index = df[df['업종'].str.contains(del_list)].index\n",
        "\n",
        "df.drop(index=del_index, inplace=True)"
      ]
    },
    {
      "cell_type": "code",
      "execution_count": null,
      "id": "c18ab421",
      "metadata": {
        "id": "c18ab421",
        "outputId": "3d3a3723-59d0-4ed4-e9b9-73d0e7e542e4"
      },
      "outputs": [
        {
          "data": {
            "text/html": [
              "<div>\n",
              "<style scoped>\n",
              "    .dataframe tbody tr th:only-of-type {\n",
              "        vertical-align: middle;\n",
              "    }\n",
              "\n",
              "    .dataframe tbody tr th {\n",
              "        vertical-align: top;\n",
              "    }\n",
              "\n",
              "    .dataframe thead th {\n",
              "        text-align: right;\n",
              "    }\n",
              "</style>\n",
              "<table border=\"1\" class=\"dataframe\">\n",
              "  <thead>\n",
              "    <tr style=\"text-align: right;\">\n",
              "      <th></th>\n",
              "      <th>상호명</th>\n",
              "      <th>업종</th>\n",
              "      <th>리뷰 수</th>\n",
              "      <th>별점</th>\n",
              "      <th>행정구</th>\n",
              "      <th>전화번호</th>\n",
              "    </tr>\n",
              "  </thead>\n",
              "  <tbody>\n",
              "    <tr>\n",
              "      <th>1496</th>\n",
              "      <td>개러리아 송파점</td>\n",
              "      <td>반려동물</td>\n",
              "      <td>19</td>\n",
              "      <td>nan</td>\n",
              "      <td>송파구</td>\n",
              "      <td>0507-1420-3103</td>\n",
              "    </tr>\n",
              "    <tr>\n",
              "      <th>1497</th>\n",
              "      <td>프랑소와펫 신사점</td>\n",
              "      <td>반려동물</td>\n",
              "      <td>39</td>\n",
              "      <td>4.89</td>\n",
              "      <td>강남구</td>\n",
              "      <td>02-547-3362</td>\n",
              "    </tr>\n",
              "    <tr>\n",
              "      <th>1508</th>\n",
              "      <td>강아지유치원 퍼피스쿨</td>\n",
              "      <td>반려동물</td>\n",
              "      <td>11</td>\n",
              "      <td>nan</td>\n",
              "      <td>강남구</td>\n",
              "      <td>02-554-2010</td>\n",
              "    </tr>\n",
              "    <tr>\n",
              "      <th>1515</th>\n",
              "      <td>하울팟 케어클럽 서초본점</td>\n",
              "      <td>반려동물</td>\n",
              "      <td>109</td>\n",
              "      <td>nan</td>\n",
              "      <td>서초구</td>\n",
              "      <td>0507-1487-1108</td>\n",
              "    </tr>\n",
              "    <tr>\n",
              "      <th>1516</th>\n",
              "      <td>몰리스펫샵 성수점</td>\n",
              "      <td>반려동물</td>\n",
              "      <td>34</td>\n",
              "      <td>4</td>\n",
              "      <td>성동구</td>\n",
              "      <td>02-2104-5024</td>\n",
              "    </tr>\n",
              "    <tr>\n",
              "      <th>1527</th>\n",
              "      <td>리본</td>\n",
              "      <td>반려동물</td>\n",
              "      <td>16</td>\n",
              "      <td>nan</td>\n",
              "      <td>양천구</td>\n",
              "      <td>0507-1322-4021</td>\n",
              "    </tr>\n",
              "    <tr>\n",
              "      <th>1530</th>\n",
              "      <td>킨더가든포독</td>\n",
              "      <td>반려동물</td>\n",
              "      <td>4</td>\n",
              "      <td>nan</td>\n",
              "      <td>강남구</td>\n",
              "      <td>02-6032-5100</td>\n",
              "    </tr>\n",
              "    <tr>\n",
              "      <th>1701</th>\n",
              "      <td>금동네 사랑방</td>\n",
              "      <td>반려동물</td>\n",
              "      <td>20</td>\n",
              "      <td>4.72</td>\n",
              "      <td>송파구</td>\n",
              "      <td>0507-1349-8784</td>\n",
              "    </tr>\n",
              "    <tr>\n",
              "      <th>1705</th>\n",
              "      <td>견생식탁</td>\n",
              "      <td>반려동물</td>\n",
              "      <td>13</td>\n",
              "      <td>nan</td>\n",
              "      <td>동작구</td>\n",
              "      <td>0507-1350-8743</td>\n",
              "    </tr>\n",
              "    <tr>\n",
              "      <th>1707</th>\n",
              "      <td>빵댕잇</td>\n",
              "      <td>반려동물</td>\n",
              "      <td>14</td>\n",
              "      <td>nan</td>\n",
              "      <td>종로구</td>\n",
              "      <td>0507-1391-4670</td>\n",
              "    </tr>\n",
              "    <tr>\n",
              "      <th>1745</th>\n",
              "      <td>그레이닝 킨더가든</td>\n",
              "      <td>반려동물</td>\n",
              "      <td>7</td>\n",
              "      <td>nan</td>\n",
              "      <td>강남구</td>\n",
              "      <td>0507-1371-5271</td>\n",
              "    </tr>\n",
              "    <tr>\n",
              "      <th>1747</th>\n",
              "      <td>멍멍슈퍼</td>\n",
              "      <td>반려동물</td>\n",
              "      <td>12</td>\n",
              "      <td>nan</td>\n",
              "      <td>강북구</td>\n",
              "      <td>0507-1330-9003</td>\n",
              "    </tr>\n",
              "    <tr>\n",
              "      <th>1748</th>\n",
              "      <td>쿠이다르</td>\n",
              "      <td>반려동물</td>\n",
              "      <td>3</td>\n",
              "      <td>nan</td>\n",
              "      <td>용산구</td>\n",
              "      <td>0507-1390-7005</td>\n",
              "    </tr>\n",
              "    <tr>\n",
              "      <th>1749</th>\n",
              "      <td>유어마이독</td>\n",
              "      <td>반려동물</td>\n",
              "      <td>6</td>\n",
              "      <td>nan</td>\n",
              "      <td>서초구</td>\n",
              "      <td>0507-1444-5025</td>\n",
              "    </tr>\n",
              "    <tr>\n",
              "      <th>1750</th>\n",
              "      <td>댕브리데이</td>\n",
              "      <td>반려동물</td>\n",
              "      <td>3</td>\n",
              "      <td>nan</td>\n",
              "      <td>강남구</td>\n",
              "      <td>0507-1490-0328</td>\n",
              "    </tr>\n",
              "    <tr>\n",
              "      <th>1751</th>\n",
              "      <td>블리빵빵</td>\n",
              "      <td>반려동물</td>\n",
              "      <td>12</td>\n",
              "      <td>nan</td>\n",
              "      <td>도봉구</td>\n",
              "      <td>0507-1347-1959</td>\n",
              "    </tr>\n",
              "    <tr>\n",
              "      <th>1756</th>\n",
              "      <td>웬디스원더랜드</td>\n",
              "      <td>반려동물</td>\n",
              "      <td>11</td>\n",
              "      <td>nan</td>\n",
              "      <td>강서구</td>\n",
              "      <td>0507-1350-6207</td>\n",
              "    </tr>\n",
              "    <tr>\n",
              "      <th>1761</th>\n",
              "      <td>필스타</td>\n",
              "      <td>반려동물</td>\n",
              "      <td>18</td>\n",
              "      <td>4.67</td>\n",
              "      <td>강남구</td>\n",
              "      <td>02-553-0345</td>\n",
              "    </tr>\n",
              "    <tr>\n",
              "      <th>1766</th>\n",
              "      <td>위드랜드 강남점</td>\n",
              "      <td>반려동물</td>\n",
              "      <td>27</td>\n",
              "      <td>4.5</td>\n",
              "      <td>서초구</td>\n",
              "      <td>02-512-2176</td>\n",
              "    </tr>\n",
              "    <tr>\n",
              "      <th>1768</th>\n",
              "      <td>디어독</td>\n",
              "      <td>반려동물</td>\n",
              "      <td>15</td>\n",
              "      <td>nan</td>\n",
              "      <td>광진구</td>\n",
              "      <td>0507-1423-6682</td>\n",
              "    </tr>\n",
              "    <tr>\n",
              "      <th>1770</th>\n",
              "      <td>키움반려견유치원</td>\n",
              "      <td>반려동물</td>\n",
              "      <td>0</td>\n",
              "      <td>nan</td>\n",
              "      <td>양천구</td>\n",
              "      <td>0507-1322-5645</td>\n",
              "    </tr>\n",
              "  </tbody>\n",
              "</table>\n",
              "</div>"
            ],
            "text/plain": [
              "                상호명    업종  리뷰 수    별점  행정구            전화번호\n",
              "1496       개러리아 송파점  반려동물    19   nan  송파구  0507-1420-3103\n",
              "1497      프랑소와펫 신사점  반려동물    39  4.89  강남구     02-547-3362\n",
              "1508    강아지유치원 퍼피스쿨  반려동물    11   nan  강남구     02-554-2010\n",
              "1515  하울팟 케어클럽 서초본점  반려동물   109   nan  서초구  0507-1487-1108\n",
              "1516      몰리스펫샵 성수점  반려동물    34     4  성동구    02-2104-5024\n",
              "1527             리본  반려동물    16   nan  양천구  0507-1322-4021\n",
              "1530         킨더가든포독  반려동물     4   nan  강남구    02-6032-5100\n",
              "1701        금동네 사랑방  반려동물    20  4.72  송파구  0507-1349-8784\n",
              "1705           견생식탁  반려동물    13   nan  동작구  0507-1350-8743\n",
              "1707            빵댕잇  반려동물    14   nan  종로구  0507-1391-4670\n",
              "1745      그레이닝 킨더가든  반려동물     7   nan  강남구  0507-1371-5271\n",
              "1747           멍멍슈퍼  반려동물    12   nan  강북구  0507-1330-9003\n",
              "1748           쿠이다르  반려동물     3   nan  용산구  0507-1390-7005\n",
              "1749          유어마이독  반려동물     6   nan  서초구  0507-1444-5025\n",
              "1750          댕브리데이  반려동물     3   nan  강남구  0507-1490-0328\n",
              "1751           블리빵빵  반려동물    12   nan  도봉구  0507-1347-1959\n",
              "1756        웬디스원더랜드  반려동물    11   nan  강서구  0507-1350-6207\n",
              "1761            필스타  반려동물    18  4.67  강남구     02-553-0345\n",
              "1766       위드랜드 강남점  반려동물    27   4.5  서초구     02-512-2176\n",
              "1768            디어독  반려동물    15   nan  광진구  0507-1423-6682\n",
              "1770       키움반려견유치원  반려동물     0   nan  양천구  0507-1322-5645"
            ]
          },
          "execution_count": 19,
          "metadata": {},
          "output_type": "execute_result"
        }
      ],
      "source": [
        "df[df['업종']=='반려동물']"
      ]
    },
    {
      "cell_type": "code",
      "execution_count": null,
      "id": "8669dab8",
      "metadata": {
        "id": "8669dab8"
      },
      "outputs": [],
      "source": [
        "# 반려동물테마 분류용\n",
        "# df[df['업종']=='반려동물'].iloc[[15,17]].index"
      ]
    },
    {
      "cell_type": "code",
      "execution_count": null,
      "id": "aa2be4bb",
      "metadata": {
        "id": "aa2be4bb"
      },
      "outputs": [],
      "source": [
        "# 업종이 반려동물인 경우 세분화해서 넣어줌\n",
        "df.loc[[1496,1701, 1705, 1707],'업종'] = '애견취미'\n",
        "df.loc[[1497,1516],'업종'] = '애견용품'\n",
        "df.loc[1768,'업종'] = '애견호텔'\n",
        "df.loc[[1508, 1515, 1527, 1530, 1745, 1747, 1748, 1749, 1750, 1756, 1766, 1770],'업종'] = '애견훈련'\n",
        "df.loc[[1751, 1761],'업종'] = '주인취미'"
      ]
    },
    {
      "cell_type": "code",
      "execution_count": null,
      "id": "2dfeea8b",
      "metadata": {
        "id": "2dfeea8b",
        "outputId": "927fff9c-85e1-4ecf-b8e0-8ea5024a040f"
      },
      "outputs": [
        {
          "data": {
            "text/html": [
              "<div>\n",
              "<style scoped>\n",
              "    .dataframe tbody tr th:only-of-type {\n",
              "        vertical-align: middle;\n",
              "    }\n",
              "\n",
              "    .dataframe tbody tr th {\n",
              "        vertical-align: top;\n",
              "    }\n",
              "\n",
              "    .dataframe thead th {\n",
              "        text-align: right;\n",
              "    }\n",
              "</style>\n",
              "<table border=\"1\" class=\"dataframe\">\n",
              "  <thead>\n",
              "    <tr style=\"text-align: right;\">\n",
              "      <th></th>\n",
              "      <th>상호명</th>\n",
              "      <th>업종</th>\n",
              "      <th>리뷰 수</th>\n",
              "      <th>별점</th>\n",
              "      <th>행정구</th>\n",
              "      <th>전화번호</th>\n",
              "    </tr>\n",
              "  </thead>\n",
              "  <tbody>\n",
              "  </tbody>\n",
              "</table>\n",
              "</div>"
            ],
            "text/plain": [
              "Empty DataFrame\n",
              "Columns: [상호명, 업종, 리뷰 수, 별점, 행정구, 전화번호]\n",
              "Index: []"
            ]
          },
          "execution_count": 22,
          "metadata": {},
          "output_type": "execute_result"
        }
      ],
      "source": [
        "df[df['업종']=='반려동물']"
      ]
    },
    {
      "cell_type": "code",
      "execution_count": null,
      "id": "a0272c7b-f0c8-48bf-8b70-06d792f41ae2",
      "metadata": {
        "id": "a0272c7b-f0c8-48bf-8b70-06d792f41ae2",
        "outputId": "b46e128f-d007-4234-b377-a8bd98b15648"
      },
      "outputs": [
        {
          "data": {
            "text/plain": [
              "array(['식당(동반)', '카페(동반)', '주인취미', '애견카페', '애견미용', '애견취미', '애견용품', '애견호텔',\n",
              "       '애견훈련', '동물약국', '동물병원'], dtype=object)"
            ]
          },
          "execution_count": 23,
          "metadata": {},
          "output_type": "execute_result"
        }
      ],
      "source": [
        "df['업종'].unique()"
      ]
    },
    {
      "cell_type": "code",
      "execution_count": null,
      "id": "902388e5",
      "metadata": {
        "id": "902388e5"
      },
      "outputs": [],
      "source": [
        "# 별점이 없는(nan) 행들 0으로 변경, 타입을 float으로 변경\n",
        "nan_index = df[df['별점'].str.contains('nan')]['별점'].index\n",
        "df.loc[nan_index,'별점'] = df.loc[nan_index,'별점'].str.replace('nan', '0')\n",
        "df['별점'] = df['별점'].astype(float)"
      ]
    },
    {
      "cell_type": "code",
      "execution_count": null,
      "id": "2eb564ea-d37c-4117-9854-3101eabbf08e",
      "metadata": {
        "id": "2eb564ea-d37c-4117-9854-3101eabbf08e",
        "outputId": "e001c760-2e25-4dc1-cf77-f5fdaee04d98"
      },
      "outputs": [
        {
          "data": {
            "text/plain": [
              "{'동물병원': 4.56,\n",
              " '동물약국': 4.39,\n",
              " '식당(동반)': 4.57,\n",
              " '애견미용': 4.64,\n",
              " '애견용품': 4.54,\n",
              " '애견취미': 4.7,\n",
              " '애견카페': 4.58,\n",
              " '애견호텔': 4.57,\n",
              " '애견훈련': 4.65,\n",
              " '주인취미': 4.69,\n",
              " '카페(동반)': 4.58}"
            ]
          },
          "execution_count": 26,
          "metadata": {},
          "output_type": "execute_result"
        }
      ],
      "source": [
        "# 별점이 nan이 아닌 값의 평균을 구함\n",
        "not_nan_index = [i for i in df.index.tolist() if i not in nan_index.tolist()]\n",
        "star_nnul = df.loc[not_nan_index]\n",
        "star_nnul = round(star_nnul.groupby('업종')[['별점']].mean(),2).to_dict()\n",
        "star_dict = star_nnul['별점']\n",
        "star_dict"
      ]
    },
    {
      "cell_type": "code",
      "execution_count": null,
      "id": "2669380c-89bb-45b7-bc31-13f074e24bcb",
      "metadata": {
        "id": "2669380c-89bb-45b7-bc31-13f074e24bcb",
        "outputId": "897568dd-1d5a-4873-8d5c-e45e0f075940"
      },
      "outputs": [
        {
          "data": {
            "text/html": [
              "<div>\n",
              "<style scoped>\n",
              "    .dataframe tbody tr th:only-of-type {\n",
              "        vertical-align: middle;\n",
              "    }\n",
              "\n",
              "    .dataframe tbody tr th {\n",
              "        vertical-align: top;\n",
              "    }\n",
              "\n",
              "    .dataframe thead th {\n",
              "        text-align: right;\n",
              "    }\n",
              "</style>\n",
              "<table border=\"1\" class=\"dataframe\">\n",
              "  <thead>\n",
              "    <tr style=\"text-align: right;\">\n",
              "      <th></th>\n",
              "      <th>상호명</th>\n",
              "      <th>업종</th>\n",
              "      <th>리뷰 수</th>\n",
              "      <th>별점</th>\n",
              "      <th>행정구</th>\n",
              "      <th>전화번호</th>\n",
              "    </tr>\n",
              "  </thead>\n",
              "  <tbody>\n",
              "  </tbody>\n",
              "</table>\n",
              "</div>"
            ],
            "text/plain": [
              "Empty DataFrame\n",
              "Columns: [상호명, 업종, 리뷰 수, 별점, 행정구, 전화번호]\n",
              "Index: []"
            ]
          },
          "execution_count": 27,
          "metadata": {},
          "output_type": "execute_result"
        }
      ],
      "source": [
        "# 해당 업종의 평균값으로 0인 값을 채워줌\n",
        "for key, value in star_dict.items():\n",
        "    rep_index = df[(df['업종']=='key')|df['별점']==0].index\n",
        "    df.loc[rep_index,'별점'] = value\n",
        "\n",
        "# 0인 가게 확인\n",
        "df[df['별점']==0]"
      ]
    },
    {
      "cell_type": "code",
      "execution_count": null,
      "id": "95a58d45",
      "metadata": {
        "id": "95a58d45"
      },
      "outputs": [],
      "source": [
        "# df.to_csv(path_or_buf='../강아지도/last_dog_map.csv',encoding='utf-8-sig',index=False)"
      ]
    },
    {
      "cell_type": "markdown",
      "id": "b538dfeb",
      "metadata": {
        "id": "b538dfeb"
      },
      "source": [
        "## 지표 만들기"
      ]
    }
  ],
  "metadata": {
    "kernelspec": {
      "display_name": "Python 3 (ipykernel)",
      "language": "python",
      "name": "python3"
    },
    "language_info": {
      "codemirror_mode": {
        "name": "ipython",
        "version": 3
      },
      "file_extension": ".py",
      "mimetype": "text/x-python",
      "name": "python",
      "nbconvert_exporter": "python",
      "pygments_lexer": "ipython3",
      "version": "3.8.16"
    },
    "colab": {
      "provenance": [],
      "include_colab_link": true
    }
  },
  "nbformat": 4,
  "nbformat_minor": 5
}